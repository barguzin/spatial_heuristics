{
 "cells": [
  {
   "cell_type": "code",
   "execution_count": 1,
   "metadata": {},
   "outputs": [],
   "source": [
    "import numpy as np\n",
    "import sys \n",
    "import time\n",
    "import pickle\n",
    "from spam import matrix_to_dict\n",
    "import pandas as pd\n",
    "from collections import defaultdict\n",
    "import pandas as pd"
   ]
  },
  {
   "cell_type": "code",
   "execution_count": 4,
   "metadata": {},
   "outputs": [
    {
     "name": "stdout",
     "output_type": "stream",
     "text": [
      "(100, 50)\n",
      "(100,)\n",
      "[  0  51 102]\n"
     ]
    }
   ],
   "source": [
    "#numpy indexing\n",
    "x = np.arange(5000).reshape(100,50)\n",
    "print(x.shape)\n",
    "print(x[...,1].shape)\n",
    "print(x[np.arange(0,3), np.arange(0,3)])"
   ]
  },
  {
   "cell_type": "code",
   "execution_count": 5,
   "metadata": {},
   "outputs": [],
   "source": [
    "def matrix_to_dict(list_fac, list_demands, r):\n",
    "    \"\"\"given a set of demand points and a distance matrix \n",
    "    converts it to the dictionary for further processing\n",
    "    \n",
    "    Inputs: \n",
    "        list_demands - list with demand points still not covered\n",
    "        list_fac - list with facility points still not covered\n",
    "        r - radius\n",
    "    \n",
    "    Returns: \n",
    "        dictionary\n",
    "    \"\"\"\n",
    "\n",
    "    dist_matrix = np.genfromtxt('distance_matrix.csv', delimiter=',')\n",
    "    print(dist_matrix.shape)\n",
    "    # subsets with list of demands and list of facilities\n",
    "    dist_matrix = dist_matrix[np.ix_(list_fac, list_demands)]\n",
    "    print(dist_matrix.shape)\n",
    "    \n",
    "    demand = pd.read_csv('demand.csv')\n",
    "\n",
    "    rows = dist_matrix.shape[0]\n",
    "    cols = dist_matrix.shape[1]\n",
    "\n",
    "    lst_array = []\n",
    "    dict_fac = defaultdict(list)\n",
    "\n",
    "    for i in range(0,rows): # for each potential facility (n=100)\n",
    "        for j in range(0,cols): # for each demand point (n=50)\n",
    "            \n",
    "            if dist_matrix[i,j]<=r:# and j in list_demands: \n",
    "                dict_fac[i].append(j)\n",
    "\n",
    "    # run through the dictionary and calculate total covered pop\n",
    "    list_pop = []\n",
    "    for k,v in dict_fac.items():\n",
    "        s = 0\n",
    "        for i in v:\n",
    "            s = s + demand.iloc[i,2]\n",
    "        \n",
    "        list_pop.append([k, s]) # adds count of covered demand points\n",
    "\n",
    "    stacked_pop = pd.DataFrame(np.vstack(list_pop), columns=['id', 'pop'])\n",
    "\n",
    "    return dict_fac, stacked_pop "
   ]
  },
  {
   "cell_type": "code",
   "execution_count": 6,
   "metadata": {},
   "outputs": [
    {
     "name": "stdout",
     "output_type": "stream",
     "text": [
      "(100, 50)\n",
      "(50, 10)\n",
      "16\n",
      "(100, 50)\n",
      "(35, 25)\n",
      "17\n"
     ]
    }
   ],
   "source": [
    "ss, dd = matrix_to_dict(np.arange(0,50), np.arange(0,10).tolist(), 0.1)\n",
    "print(len(dd))\n",
    "ss, dd = matrix_to_dict(np.arange(0,35), np.arange(0,25), 0.1)\n",
    "print(len(dd))"
   ]
  },
  {
   "cell_type": "code",
   "execution_count": 7,
   "metadata": {},
   "outputs": [
    {
     "data": {
      "text/plain": [
       "Index(['x', 'y', 'facility_id'], dtype='object')"
      ]
     },
     "execution_count": 7,
     "metadata": {},
     "output_type": "execute_result"
    }
   ],
   "source": [
    "facilities = pd.read_csv('facility.csv')\n",
    "facilities.columns"
   ]
  },
  {
   "cell_type": "code",
   "execution_count": 8,
   "metadata": {},
   "outputs": [
    {
     "data": {
      "text/plain": [
       "97"
      ]
     },
     "execution_count": 8,
     "metadata": {},
     "output_type": "execute_result"
    }
   ],
   "source": [
    "len(facilities.iloc[:,2][~facilities.iloc[:,2].isin([62,21,33])].tolist())"
   ]
  },
  {
   "cell_type": "code",
   "execution_count": 9,
   "metadata": {},
   "outputs": [],
   "source": [
    "def greedy(n_sited):\n",
    "    \"\"\"\"\"\"\n",
    "\n",
    "    # inputs \n",
    "    #dist_matrix = np.genfromtxt('distance_matrix.csv', delimiter=',') \n",
    "    demand = pd.read_csv('demand.csv')\n",
    "    demand.columns = ['x','y', 'pop', 'demand_id']\n",
    "    facility = pd.read_csv('facility.csv')\n",
    "    \n",
    "    dd, ss = matrix_to_dict(facility.facility_id.tolist(), demand.demand_id.tolist(), r=0.1)\n",
    "    # sort initial list\n",
    "    ss.sort_values(by='pop', ascending=False, inplace=True)\n",
    "\n",
    "    # LOOP \n",
    "\n",
    "    # number of sited facilities \n",
    "    p = 0 \n",
    "\n",
    "    # objetive value\n",
    "    obj = 0 \n",
    "    \n",
    "    # decision variables\n",
    "    covered_demand = []\n",
    "    sited_candidates = []\n",
    "\n",
    "\n",
    "    while p < n_sited:\n",
    "        \n",
    "        print('shape of ss:', ss.shape)\n",
    "        \n",
    "        print('next:', dd[ss.iloc[0,0]])\n",
    "        print('total items in dict', len(dd))\n",
    "        \n",
    "        for i in dd[ss.iloc[0,0]]:\n",
    "            # add to covered demand from the dictionary \n",
    "            covered_demand.append(i)\n",
    "        print('# of covered demand points:', len(covered_demand))\n",
    "        print('covered:', covered_demand)\n",
    "        print('---------------------------')\n",
    "        \n",
    "        # calculate total covered demand \n",
    "        s = demand.loc[covered_demand,'pop'].sum()\n",
    "        \n",
    "        obj = s\n",
    "            \n",
    "        p = p + 1\n",
    "        print('number of facilities:', p)\n",
    "        print('---------------------------')\n",
    "        print('objective value:', obj)\n",
    "        print('---------------------------')\n",
    "\n",
    "        # add to sited facilities\n",
    "        sited_candidates.append(ss.iloc[0,0])\n",
    "        print('sited id:', sited_candidates)\n",
    "        print('---------------------------')\n",
    "            \n",
    "        # recalc and sort the dd again \n",
    "        #uncovered_demand = demand.iloc[:,3][~demand.iloc[:,3].isin(covered_demand)].tolist()\n",
    "        uncovered_demand = demand.loc[~demand.demand_id.isin(covered_demand), 'demand_id'].tolist()\n",
    "        unsited_facility = facility.loc[~facility.facility_id.isin(sited_candidates), 'facility_id'].tolist()\n",
    "        #unsited_facility = facilities.iloc[:,2][~facilities.iloc[:,2].isin(sited_candidates)].tolist()\n",
    "        \n",
    "        # check \n",
    "        if len(list(set(uncovered_demand) & set(covered_demand)))>0:\n",
    "            print('error')\n",
    "        \n",
    "        print(f'number of uncited facilities: {len(unsited_facility)}' )\n",
    "        print(f'number of uncovered demand: {len(uncovered_demand)}' )\n",
    "        print('---------------------------')\n",
    "            \n",
    "        dd, ss = matrix_to_dict(unsited_facility, uncovered_demand, 0.1)\n",
    "        \n",
    "        # remove rows for sited facilities from ss \n",
    "        #ss = ss[~ss.id.isin(sited_candidates)]\n",
    "        #print(ss.shape)\n",
    "        ss.sort_values(by='pop', ascending=False, inplace=True)\n",
    "        \n",
    "        ss.to_csv('matrix_{}'.format(p))\n",
    "                    \n",
    "    \n",
    "    # calculate \n",
    "    return obj, ss, dd, covered_demand"
   ]
  },
  {
   "cell_type": "code",
   "execution_count": 10,
   "metadata": {},
   "outputs": [
    {
     "name": "stdout",
     "output_type": "stream",
     "text": [
      "(100, 50)\n",
      "(100, 50)\n",
      "shape of ss: (79, 2)\n",
      "next: [2, 10, 25, 45]\n",
      "total items in dict 79\n",
      "# of covered demand points: 4\n",
      "covered: [2, 10, 25, 45]\n",
      "---------------------------\n",
      "number of facilities: 1\n",
      "---------------------------\n",
      "objective value: 333\n",
      "---------------------------\n",
      "sited id: [62]\n",
      "---------------------------\n",
      "number of uncited facilities: 99\n",
      "number of uncovered demand: 46\n",
      "---------------------------\n",
      "(100, 50)\n",
      "(99, 46)\n",
      "shape of ss: (76, 2)\n",
      "next: [6, 20, 21, 26, 37]\n",
      "total items in dict 76\n",
      "# of covered demand points: 9\n",
      "covered: [2, 10, 25, 45, 6, 20, 21, 26, 37]\n",
      "---------------------------\n",
      "number of facilities: 2\n",
      "---------------------------\n",
      "objective value: 678\n",
      "---------------------------\n",
      "sited id: [62, 65]\n",
      "---------------------------\n",
      "number of uncited facilities: 98\n",
      "number of uncovered demand: 41\n",
      "---------------------------\n",
      "(100, 50)\n",
      "(98, 41)\n",
      "shape of ss: (69, 2)\n",
      "next: [2, 7, 9, 16, 25]\n",
      "total items in dict 69\n",
      "# of covered demand points: 14\n",
      "covered: [2, 10, 25, 45, 6, 20, 21, 26, 37, 2, 7, 9, 16, 25]\n",
      "---------------------------\n",
      "number of facilities: 3\n",
      "---------------------------\n",
      "objective value: 1000\n",
      "---------------------------\n",
      "sited id: [62, 65, 54]\n",
      "---------------------------\n",
      "number of uncited facilities: 97\n",
      "number of uncovered demand: 38\n",
      "---------------------------\n",
      "(100, 50)\n",
      "(97, 38)\n",
      "shape of ss: (64, 2)\n",
      "next: [5, 9, 24]\n",
      "total items in dict 64\n",
      "# of covered demand points: 17\n",
      "covered: [2, 10, 25, 45, 6, 20, 21, 26, 37, 2, 7, 9, 16, 25, 5, 9, 24]\n",
      "---------------------------\n",
      "number of facilities: 4\n",
      "---------------------------\n",
      "objective value: 1258\n",
      "---------------------------\n",
      "sited id: [62, 65, 54, 91]\n",
      "---------------------------\n",
      "number of uncited facilities: 96\n",
      "number of uncovered demand: 36\n",
      "---------------------------\n",
      "(100, 50)\n",
      "(96, 36)\n",
      "shape of ss: (64, 2)\n",
      "next: [21, 24, 26]\n",
      "total items in dict 64\n",
      "# of covered demand points: 20\n",
      "covered: [2, 10, 25, 45, 6, 20, 21, 26, 37, 2, 7, 9, 16, 25, 5, 9, 24, 21, 24, 26]\n",
      "---------------------------\n",
      "number of facilities: 5\n",
      "---------------------------\n",
      "objective value: 1512\n",
      "---------------------------\n",
      "sited id: [62, 65, 54, 91, 34]\n",
      "---------------------------\n",
      "number of uncited facilities: 95\n",
      "number of uncovered demand: 36\n",
      "---------------------------\n",
      "(100, 50)\n",
      "(95, 36)\n"
     ]
    }
   ],
   "source": [
    "obj, ss, dd, covered_demand = greedy(5)"
   ]
  },
  {
   "cell_type": "code",
   "execution_count": 11,
   "metadata": {},
   "outputs": [
    {
     "data": {
      "text/html": [
       "<div>\n",
       "<style scoped>\n",
       "    .dataframe tbody tr th:only-of-type {\n",
       "        vertical-align: middle;\n",
       "    }\n",
       "\n",
       "    .dataframe tbody tr th {\n",
       "        vertical-align: top;\n",
       "    }\n",
       "\n",
       "    .dataframe thead th {\n",
       "        text-align: right;\n",
       "    }\n",
       "</style>\n",
       "<table border=\"1\" class=\"dataframe\">\n",
       "  <thead>\n",
       "    <tr style=\"text-align: right;\">\n",
       "      <th></th>\n",
       "      <th>x</th>\n",
       "      <th>y</th>\n",
       "      <th>pop</th>\n",
       "      <th>demand_id</th>\n",
       "    </tr>\n",
       "  </thead>\n",
       "  <tbody>\n",
       "    <tr>\n",
       "      <th>0</th>\n",
       "      <td>0.696469</td>\n",
       "      <td>0.120629</td>\n",
       "      <td>77</td>\n",
       "      <td>0</td>\n",
       "    </tr>\n",
       "    <tr>\n",
       "      <th>1</th>\n",
       "      <td>0.286139</td>\n",
       "      <td>0.826341</td>\n",
       "      <td>8</td>\n",
       "      <td>1</td>\n",
       "    </tr>\n",
       "    <tr>\n",
       "      <th>2</th>\n",
       "      <td>0.226851</td>\n",
       "      <td>0.603060</td>\n",
       "      <td>78</td>\n",
       "      <td>2</td>\n",
       "    </tr>\n",
       "    <tr>\n",
       "      <th>3</th>\n",
       "      <td>0.551315</td>\n",
       "      <td>0.545068</td>\n",
       "      <td>6</td>\n",
       "      <td>3</td>\n",
       "    </tr>\n",
       "    <tr>\n",
       "      <th>4</th>\n",
       "      <td>0.719469</td>\n",
       "      <td>0.342764</td>\n",
       "      <td>65</td>\n",
       "      <td>4</td>\n",
       "    </tr>\n",
       "  </tbody>\n",
       "</table>\n",
       "</div>"
      ],
      "text/plain": [
       "          x         y  pop  demand_id\n",
       "0  0.696469  0.120629   77          0\n",
       "1  0.286139  0.826341    8          1\n",
       "2  0.226851  0.603060   78          2\n",
       "3  0.551315  0.545068    6          3\n",
       "4  0.719469  0.342764   65          4"
      ]
     },
     "execution_count": 11,
     "metadata": {},
     "output_type": "execute_result"
    }
   ],
   "source": [
    "demand = pd.read_csv('demand.csv')\n",
    "demand.columns = ['x','y', 'pop', 'demand_id']\n",
    "demand.head()"
   ]
  },
  {
   "cell_type": "code",
   "execution_count": 12,
   "metadata": {},
   "outputs": [
    {
     "data": {
      "text/plain": [
       "[0, 8, 9, 10, 11]"
      ]
     },
     "execution_count": 12,
     "metadata": {},
     "output_type": "execute_result"
    }
   ],
   "source": [
    "facility = pd.read_csv('facility.csv')\n",
    "facility.loc[~facility.facility_id.isin([1,2,3,4,5,6,7]), 'facility_id'].tolist()[:5]"
   ]
  },
  {
   "cell_type": "code",
   "execution_count": 13,
   "metadata": {},
   "outputs": [
    {
     "name": "stdout",
     "output_type": "stream",
     "text": [
      "(100, 50)\n",
      "(10, 10)\n"
     ]
    }
   ],
   "source": [
    "dist_matrix = np.genfromtxt('distance_matrix.csv', delimiter=',')\n",
    "print(dist_matrix.shape)\n",
    "# subsets with list of demands and list of facilities\n",
    "dist_matrix = dist_matrix[np.ix_(np.arange(0,10), np.arange(0,10))]\n",
    "print(dist_matrix.shape)"
   ]
  },
  {
   "cell_type": "code",
   "execution_count": null,
   "metadata": {},
   "outputs": [],
   "source": []
  }
 ],
 "metadata": {
  "interpreter": {
   "hash": "ec06dac67a621b1bc5d551f06bd90c1fc966f7d0a7bc418cd8957f48b731d2b5"
  },
  "kernelspec": {
   "display_name": "Python 3 (ipykernel)",
   "language": "python",
   "name": "python3"
  },
  "language_info": {
   "codemirror_mode": {
    "name": "ipython",
    "version": 3
   },
   "file_extension": ".py",
   "mimetype": "text/x-python",
   "name": "python",
   "nbconvert_exporter": "python",
   "pygments_lexer": "ipython3",
   "version": "3.8.12"
  }
 },
 "nbformat": 4,
 "nbformat_minor": 2
}
