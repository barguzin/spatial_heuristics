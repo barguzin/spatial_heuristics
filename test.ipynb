{
 "cells": [
  {
   "cell_type": "code",
   "execution_count": 13,
   "metadata": {},
   "outputs": [],
   "source": [
    "import numpy as np\n",
    "import matplotlib.pyplot as plt\n",
    "from scipy.spatial.distance import cdist\n",
    "import csv\n",
    "import pandas as pd\n",
    "\n",
    "def make_points(n):\n",
    "    '''Generate set of points (sites) on a 2d plane\n",
    "    using a normal distribution.  \n",
    "    \n",
    "    n - number of points\n",
    "\n",
    "    returns: a set of points (demand) by writing to a file 'demand.csv'\n",
    "\n",
    "    '''\n",
    "\n",
    "    np.random.seed(123)\n",
    "\n",
    "    mu, sigma = 0, 1 \n",
    "    xs = np.random.normal(mu, sigma, n) \n",
    "    ys = np.random.normal(mu, sigma, n) \n",
    "\n",
    "    plt.scatter(xs, ys)\n",
    "\n",
    "    # convert to lat/lng for saving\n",
    "    ss = np.vstack([xs.ravel(),ys.ravel()]).T\n",
    "\n",
    "    # add id\n",
    "    ss = np.append(ss, np.arange(0, ss.shape[0]).reshape(ss.shape[0],1), axis=1)\n",
    "\n",
    "    # re-arrange id \n",
    "    permutation = [2, 0, 1]\n",
    "    idx = np.empty_like(permutation)\n",
    "    idx[permutation] = np.arange(len(permutation))\n",
    "    ss[:] = ss[:, idx]\n",
    "\n",
    "    #np.array(['d_'+str(x) for x in np.arange(0,10)]).reshape(5,2)\n",
    "    #dem_id = np.array(['d_' + str(x) for x in np.arange(0, len(xs))]).reshape(len(xs),1)\n",
    "    #dem_id = list(itertools.chain(dem_id))\n",
    "    #dem_id = map(str, dem_id)\n",
    "    #ss = np.append(ss, dem_id, axis=1)\n",
    "    \n",
    "    # save to demand \n",
    "    #fmt = ['%f', '%f', '%i']\n",
    "    fmt = ['%i', '%f', '%f']\n",
    "    np.savetxt('demand.csv', ss, delimiter=',', header='x,y,demand_id', comments='', fmt=fmt)\n",
    "\n",
    "\n",
    "def make_grid(q):\n",
    "    '''generate regular grid over 2d space\n",
    "    \n",
    "    q - number of quadrants (cells) on the grid \n",
    "\n",
    "    returns: P(ID, X, Y)\n",
    "    writes: array to file\n",
    "\n",
    "    '''\n",
    "\n",
    "    n = q + 2 # the start and endpoint are always on 0/1\n",
    "\n",
    "    nx, ny = n, n\n",
    "\n",
    "    x = np.linspace(0,1,nx)\n",
    "    y = np.linspace(0,1,nx)\n",
    "    x = x[1:len(x)-1]\n",
    "    y = y[1:len(y)-1]\n",
    "\n",
    "    xx, yy = np.meshgrid(x,y)\n",
    "\n",
    "    ss = np.vstack([xx.ravel(),yy.ravel()]).T\n",
    "\n",
    "    # add id\n",
    "    ss = np.append(ss, np.arange(0,ss.shape[0]).reshape(ss.shape[0],1), axis=1)\n",
    "    \n",
    "    # plot and save a plot\n",
    "    plt.scatter(ss[:,0],ss[:,1])\n",
    "\n",
    "    # save to file\n",
    "    np.savetxt('facility.csv', ss, delimiter=',', header='x,y,facility_id', comments='')\n",
    "\n",
    "\n",
    "def find_covered(fac, sites, threshold):\n",
    "\n",
    "    '''For each facility (F) and demand point (D) calculate the pairwise distance. \n",
    "    \n",
    "    fac, sites - 2d array with xy-coords\n",
    "    \n",
    "    return: data in the form: F: {D1, D2, D3}\n",
    "    \n",
    "    ''' \n",
    "\n",
    "    dist_matrix = cdist(x, y)\n",
    "\n",
    "    rows = dist_matrix.shape[0]\n",
    "    cols = dist_matrix.shape[1]\n",
    "\n",
    "    lst_array = []\n",
    "    dict_fac = {}\n",
    "\n",
    "    for i in range(0,rows):\n",
    "        for j in range(0,cols):\n",
    "            lst_array.append([i,j,dist_matrix[i,j]])\n",
    "            if arr[i,j]<=1: # if within threshold\n",
    "                key = str(i)\n",
    "                dict_fac.setdefault(key, []).append(j)\n",
    "\n",
    "    stacked = np.vstack(lst_arr)\n",
    "\n",
    "    # add id\n",
    "    stacked = np.append(stacked, np.arange(0,stacked.shape[0]).reshape(stacked.shape[0],1), axis=1)\n",
    "    \n",
    "    # save pairwise distance to file \n",
    "    np.savetxt('pairwise_dist.csv', stacked, delimiter=',', header='facility,demand,dist,d', comments='')\n",
    "\n",
    "    # save dictionary to file \n",
    "    with open('dict.csv', 'w') as csv_file:  \n",
    "        writer = csv.writer(csv_file)\n",
    "        for key, value in dict_fac.items():\n",
    "            writer.writerow([key, value])\n",
    "\n",
    "\n"
   ]
  },
  {
   "cell_type": "code",
   "execution_count": 14,
   "metadata": {},
   "outputs": [
    {
     "data": {
      "image/png": "[encoded data removed]",
      "text/plain": [
       "<Figure size 432x288 with 1 Axes>"
      ]
     },
     "metadata": {
      "needs_background": "light"
     },
     "output_type": "display_data"
    }
   ],
   "source": [
    "make_points(5)"
   ]
  },
  {
   "cell_type": "code",
   "execution_count": 49,
   "metadata": {},
   "outputs": [
    {
     "data": {
      "text/plain": [
       "(0.0, 1.0)"
      ]
     },
     "execution_count": 49,
     "metadata": {},
     "output_type": "execute_result"
    },
    {
     "data": {
      "image/png": "[encoded data removed]",
      "text/plain": [
       "<Figure size 432x288 with 1 Axes>"
      ]
     },
     "metadata": {
      "needs_background": "light"
     },
     "output_type": "display_data"
    }
   ],
   "source": [
    "\n",
    "n = 10\n",
    "nx, ny = n, n\n",
    "\n",
    "x = np.linspace(0,1,nx)\n",
    "y = np.linspace(0,1,nx)\n",
    "x = x[1:len(x)-1]\n",
    "y = y[1:len(y)-1]\n",
    "\n",
    "xx, yy = np.meshgrid(x,y)\n",
    "\n",
    "plt.scatter(xx,yy)\n",
    "plt.xlim(0,1)\n",
    "plt.ylim(0,1)"
   ]
  },
  {
   "cell_type": "code",
   "execution_count": 76,
   "metadata": {},
   "outputs": [
    {
     "name": "stdout",
     "output_type": "stream",
     "text": [
      "(64, 2)\n"
     ]
    },
    {
     "data": {
      "text/plain": [
       "<matplotlib.collections.PathCollection at 0x1d2731a3610>"
      ]
     },
     "execution_count": 76,
     "metadata": {},
     "output_type": "execute_result"
    },
    {
     "data": {
      "image/png": "[encoded data removed]",
      "text/plain": [
       "<Figure size 432x288 with 1 Axes>"
      ]
     },
     "metadata": {
      "needs_background": "light"
     },
     "output_type": "display_data"
    }
   ],
   "source": [
    "ss = np.vstack([xx.ravel(),yy.ravel()])\n",
    "ss = ss.T\n",
    "print(ss.shape)\n",
    "\n",
    "plt.scatter(ss[:,0],ss[:,1])"
   ]
  },
  {
   "cell_type": "code",
   "execution_count": 181,
   "metadata": {},
   "outputs": [
    {
     "name": "stdout",
     "output_type": "stream",
     "text": [
      "[[1 1 1]\n",
      " [2 2 2]\n",
      " [3 3 3]]\n",
      "{'0': [0, 1, 2]}\n"
     ]
    }
   ],
   "source": [
    "arr = np.repeat([1,2,3], 3).reshape(3,3)\n",
    "print(arr)\n",
    "\n",
    "rows = arr.shape[0]\n",
    "cols = arr.shape[1]\n",
    "\n",
    "#new_array = np.empty([rows**cols, 3])\n",
    "\n",
    "lst_arr = []\n",
    "dict_fac = {}\n",
    "\n",
    "for i in range(0,rows):\n",
    "    for j in range(0,cols):\n",
    "        #print(i, '-->', j, '=', arr[i,j])\n",
    "        lst_arr.append([i,j, arr[i,j]])\n",
    "        if arr[i,j]<=1:\n",
    "            key = str(i)\n",
    "            dict_fac.setdefault(key, []).append(j)\n",
    "\n",
    "print(dict_fac)\n",
    "\n",
    "stacked = np.vstack(lst_arr)\n",
    "\n",
    "# add id \n",
    "stacked = np.append(stacked, np.arange(0,stacked.shape[0]).reshape(stacked.shape[0],1), axis=1)\n",
    "#print(stacked.shape)\n",
    "#print(stacked)\n",
    "\n",
    "np.savetxt('test.csv', stacked, delimiter=',', header='a,b,c,d', comments='')\n",
    "\n",
    "\n"
   ]
  },
  {
   "cell_type": "code",
   "execution_count": 217,
   "metadata": {},
   "outputs": [
    {
     "data": {
      "text/plain": [
       "['d_0', 'd_1', 'd_2', 'd_3', 'd_4', 'd_5', 'd_6', 'd_7', 'd_8', 'd_9']"
      ]
     },
     "execution_count": 217,
     "metadata": {},
     "output_type": "execute_result"
    }
   ],
   "source": [
    "#repa = np.array(['d_'+str(x) for x in np.arange(0,10)]).reshape(10,1)\n",
    "import itertools\n",
    "\n",
    "repa = np.array(['d_'+str(x) for x in np.arange(0,10)]).reshape(10,1)\n",
    "\n",
    "list(itertools.chain(*repa))"
   ]
  }
 ],
 "metadata": {
  "interpreter": {
   "hash": "ec06dac67a621b1bc5d551f06bd90c1fc966f7d0a7bc418cd8957f48b731d2b5"
  },
  "kernelspec": {
   "display_name": "Python 3.8.12 64-bit ('optim': conda)",
   "language": "python",
   "name": "python3"
  },
  "language_info": {
   "codemirror_mode": {
    "name": "ipython",
    "version": 3
   },
   "file_extension": ".py",
   "mimetype": "text/x-python",
   "name": "python",
   "nbconvert_exporter": "python",
   "pygments_lexer": "ipython3",
   "version": "3.10.0"
  },
  "orig_nbformat": 4
 },
 "nbformat": 4,
 "nbformat_minor": 2
}
