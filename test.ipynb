{
 "cells": [
  {
   "cell_type": "code",
   "execution_count": 13,
   "metadata": {},
   "outputs": [],
   "source": [
    "import numpy as np\n",
    "import matplotlib.pyplot as plt\n",
    "from scipy.spatial.distance import cdist\n",
    "import csv\n",
    "import pandas as pd\n",
    "\n",
    "def make_points(n):\n",
    "    '''Generate set of points (sites) on a 2d plane\n",
    "    using a normal distribution.  \n",
    "    \n",
    "    n - number of points\n",
    "\n",
    "    returns: a set of points (demand) by writing to a file 'demand.csv'\n",
    "\n",
    "    '''\n",
    "\n",
    "    np.random.seed(123)\n",
    "\n",
    "    mu, sigma = 0, 1 \n",
    "    xs = np.random.normal(mu, sigma, n) \n",
    "    ys = np.random.normal(mu, sigma, n) \n",
    "\n",
    "    plt.scatter(xs, ys)\n",
    "\n",
    "    # convert to lat/lng for saving\n",
    "    ss = np.vstack([xs.ravel(),ys.ravel()]).T\n",
    "\n",
    "    # add id\n",
    "    ss = np.append(ss, np.arange(0, ss.shape[0]).reshape(ss.shape[0],1), axis=1)\n",
    "\n",
    "    # re-arrange id \n",
    "    permutation = [2, 0, 1]\n",
    "    idx = np.empty_like(permutation)\n",
    "    idx[permutation] = np.arange(len(permutation))\n",
    "    ss[:] = ss[:, idx]\n",
    "\n",
    "    #np.array(['d_'+str(x) for x in np.arange(0,10)]).reshape(5,2)\n",
    "    #dem_id = np.array(['d_' + str(x) for x in np.arange(0, len(xs))]).reshape(len(xs),1)\n",
    "    #dem_id = list(itertools.chain(dem_id))\n",
    "    #dem_id = map(str, dem_id)\n",
    "    #ss = np.append(ss, dem_id, axis=1)\n",
    "    \n",
    "    # save to demand \n",
    "    #fmt = ['%f', '%f', '%i']\n",
    "    fmt = ['%i', '%f', '%f']\n",
    "    np.savetxt('demand.csv', ss, delimiter=',', header='x,y,demand_id', comments='', fmt=fmt)\n",
    "\n",
    "\n",
    "def make_grid(q):\n",
    "    '''generate regular grid over 2d space\n",
    "    \n",
    "    q - number of quadrants (cells) on the grid \n",
    "\n",
    "    returns: P(ID, X, Y)\n",
    "    writes: array to file\n",
    "\n",
    "    '''\n",
    "\n",
    "    n = q + 2 # the start and endpoint are always on 0/1\n",
    "\n",
    "    nx, ny = n, n\n",
    "\n",
    "    x = np.linspace(0,1,nx)\n",
    "    y = np.linspace(0,1,nx)\n",
    "    x = x[1:len(x)-1]\n",
    "    y = y[1:len(y)-1]\n",
    "\n",
    "    xx, yy = np.meshgrid(x,y)\n",
    "\n",
    "    ss = np.vstack([xx.ravel(),yy.ravel()]).T\n",
    "\n",
    "    # add id\n",
    "    ss = np.append(ss, np.arange(0,ss.shape[0]).reshape(ss.shape[0],1), axis=1)\n",
    "    \n",
    "    # plot and save a plot\n",
    "    plt.scatter(ss[:,0],ss[:,1])\n",
    "\n",
    "    # save to file\n",
    "    np.savetxt('facility.csv', ss, delimiter=',', header='x,y,facility_id', comments='')\n",
    "\n",
    "\n",
    "def find_covered(fac, sites, threshold):\n",
    "\n",
    "    '''For each facility (F) and demand point (D) calculate the pairwise distance. \n",
    "    \n",
    "    fac, sites - 2d array with xy-coords\n",
    "    \n",
    "    return: data in the form: F: {D1, D2, D3}\n",
    "    \n",
    "    ''' \n",
    "\n",
    "    dist_matrix = cdist(x, y)\n",
    "\n",
    "    rows = dist_matrix.shape[0]\n",
    "    cols = dist_matrix.shape[1]\n",
    "\n",
    "    lst_array = []\n",
    "    dict_fac = {}\n",
    "\n",
    "    for i in range(0,rows):\n",
    "        for j in range(0,cols):\n",
    "            lst_array.append([i,j,dist_matrix[i,j]])\n",
    "            if arr[i,j]<=1: # if within threshold\n",
    "                key = str(i)\n",
    "                dict_fac.setdefault(key, []).append(j)\n",
    "\n",
    "    stacked = np.vstack(lst_arr)\n",
    "\n",
    "    # add id\n",
    "    stacked = np.append(stacked, np.arange(0,stacked.shape[0]).reshape(stacked.shape[0],1), axis=1)\n",
    "    \n",
    "    # save pairwise distance to file \n",
    "    np.savetxt('pairwise_dist.csv', stacked, delimiter=',', header='facility,demand,dist,d', comments='')\n",
    "\n",
    "    # save dictionary to file \n",
    "    with open('dict.csv', 'w') as csv_file:  \n",
    "        writer = csv.writer(csv_file)\n",
    "        for key, value in dict_fac.items():\n",
    "            writer.writerow([key, value])\n",
    "\n",
    "\n"
   ]
  },
  {
   "cell_type": "code",
   "execution_count": 14,
   "metadata": {},
   "outputs": [
    {
     "data": {
      "image/png": "[encoded data removed]",
      "text/plain": [
       "<Figure size 432x288 with 1 Axes>"
      ]
     },
     "metadata": {
      "needs_background": "light"
     },
     "output_type": "display_data"
    }
   ],
   "source": [
    "make_points(5)"
   ]
  },
  {
   "cell_type": "code",
   "execution_count": 49,
   "metadata": {},
   "outputs": [
    {
     "data": {
      "text/plain": [
       "(0.0, 1.0)"
      ]
     },
     "execution_count": 49,
     "metadata": {},
     "output_type": "execute_result"
    },
    {
     "data": {
      "image/png": "[encoded data removed]",
      "text/plain": [
       "<Figure size 432x288 with 1 Axes>"
      ]
     },
     "metadata": {
      "needs_background": "light"
     },
     "output_type": "display_data"
    }
   ],
   "source": [
    "\n",
    "n = 10\n",
    "nx, ny = n, n\n",
    "\n",
    "x = np.linspace(0,1,nx)\n",
    "y = np.linspace(0,1,nx)\n",
    "x = x[1:len(x)-1]\n",
    "y = y[1:len(y)-1]\n",
    "\n",
    "xx, yy = np.meshgrid(x,y)\n",
    "\n",
    "plt.scatter(xx,yy)\n",
    "plt.xlim(0,1)\n",
    "plt.ylim(0,1)"
   ]
  },
  {
   "cell_type": "code",
   "execution_count": 76,
   "metadata": {},
   "outputs": [
    {
     "name": "stdout",
     "output_type": "stream",
     "text": [
      "(64, 2)\n"
     ]
    },
    {
     "data": {
      "text/plain": [
       "<matplotlib.collections.PathCollection at 0x1d2731a3610>"
      ]
     },
     "execution_count": 76,
     "metadata": {},
     "output_type": "execute_result"
    },
    {
     "data": {
      "image/png": "[encoded data removed]",
      "text/plain": [
       "<Figure size 432x288 with 1 Axes>"
      ]
     },
     "metadata": {
      "needs_background": "light"
     },
     "output_type": "display_data"
    }
   ],
   "source": [
    "ss = np.vstack([xx.ravel(),yy.ravel()])\n",
    "ss = ss.T\n",
    "print(ss.shape)\n",
    "\n",
    "plt.scatter(ss[:,0],ss[:,1])"
   ]
  },
  {
   "cell_type": "code",
   "execution_count": 3,
   "metadata": {},
   "outputs": [
    {
     "name": "stdout",
     "output_type": "stream",
     "text": [
      "[[1 1 1]\n",
      " [2 2 2]\n",
      " [3 3 3]]\n",
      "{0: [0, 1, 2]}\n"
     ]
    }
   ],
   "source": [
    "import numpy as np\n",
    "arr = np.repeat([1,2,3], 3).reshape(3,3)\n",
    "print(arr)\n",
    "\n",
    "rows = arr.shape[0]\n",
    "cols = arr.shape[1]\n",
    "\n",
    "#new_array = np.empty([rows**cols, 3])\n",
    "\n",
    "lst_arr = []\n",
    "dict_fac = {}\n",
    "\n",
    "for i in range(0,rows):\n",
    "    for j in range(0,cols):\n",
    "        #print(i, '-->', j, '=', arr[i,j])\n",
    "        lst_arr.append([i,j, arr[i,j]])\n",
    "        if arr[i,j]<=1:\n",
    "            key = i#str(i)\n",
    "            dict_fac.setdefault(key, []).append(j)\n",
    "\n",
    "print(dict_fac)\n",
    "\n",
    "stacked = np.vstack(lst_arr)\n",
    "\n",
    "# add id \n",
    "stacked = np.append(stacked, np.arange(0,stacked.shape[0]).reshape(stacked.shape[0],1), axis=1)\n",
    "#print(stacked.shape)\n",
    "#print(stacked)\n",
    "\n",
    "np.savetxt('test.csv', stacked, delimiter=',', header='a,b,c,d', comments='')\n",
    "\n",
    "\n"
   ]
  },
  {
   "cell_type": "code",
   "execution_count": 217,
   "metadata": {},
   "outputs": [
    {
     "data": {
      "text/plain": [
       "['d_0', 'd_1', 'd_2', 'd_3', 'd_4', 'd_5', 'd_6', 'd_7', 'd_8', 'd_9']"
      ]
     },
     "execution_count": 217,
     "metadata": {},
     "output_type": "execute_result"
    }
   ],
   "source": [
    "#repa = np.array(['d_'+str(x) for x in np.arange(0,10)]).reshape(10,1)\n",
    "import itertools\n",
    "\n",
    "repa = np.array(['d_'+str(x) for x in np.arange(0,10)]).reshape(10,1)\n",
    "\n",
    "list(itertools.chain(*repa))"
   ]
  },
  {
   "cell_type": "code",
   "execution_count": 4,
   "metadata": {},
   "outputs": [
    {
     "name": "stdout",
     "output_type": "stream",
     "text": [
      "defaultdict(<class 'list'>, {})\n"
     ]
    },
    {
     "data": {
      "text/plain": [
       "defaultdict(list, {2010: [2], 2009: [4, 7], 1989: [8]})"
      ]
     },
     "execution_count": 4,
     "metadata": {},
     "output_type": "execute_result"
    }
   ],
   "source": [
    "from collections import defaultdict\n",
    "data = [(2010, 2), (2009, 4), (1989, 8), (2009, 7)]\n",
    "d = defaultdict(list)\n",
    "print(d)\n",
    "\n",
    "for year, month in data:\n",
    "    d[year].append(month)\n",
    "\n",
    "d"
   ]
  },
  {
   "cell_type": "code",
   "execution_count": 5,
   "metadata": {},
   "outputs": [
    {
     "name": "stdout",
     "output_type": "stream",
     "text": [
      "defaultdict(<class 'list'>, {0: [27], 1: [27, 28], 2: [28], 3: [46], 4: [20, 46], 5: [0, 20], 6: [0, 15, 20, 24], 7: [15, 37], 8: [37], 10: [17, 27], 11: [27, 28], 12: [28], 13: [18, 46, 48], 14: [18, 46, 48], 15: [0, 20], 16: [0, 15], 19: [17, 30], 20: [17], 21: [42], 22: [5, 42], 23: [5, 36, 48], 24: [18, 48, 49], 25: [49], 26: [4], 28: [38], 29: [30], 31: [42], 32: [5, 36, 42], 33: [5, 33, 36, 39], 34: [33, 39, 49], 35: [4, 49], 36: [4], 38: [6, 38, 47], 42: [9], 43: [9, 33, 39], 44: [3, 33, 39], 48: [6, 47], 50: [2], 51: [2, 25, 26], 52: [9, 25, 26, 32], 53: [3, 9, 12, 19, 26, 32], 54: [3, 19], 55: [3], 56: [11, 22], 57: [11, 44], 58: [44], 59: [13], 60: [2, 45], 61: [2, 10, 25, 45], 62: [10, 12, 25, 26, 31], 63: [12, 31, 32], 64: [3, 19], 65: [7, 22, 23, 29, 40], 66: [7, 11, 22], 67: [22, 44], 68: [44], 69: [13, 16], 70: [16, 45], 71: [1, 10, 16, 45], 72: [10, 31, 43], 73: [31, 43], 74: [23, 29, 40], 75: [7, 23, 29, 40], 76: [7], 80: [16], 81: [1, 35], 82: [1, 14, 35, 43], 83: [8, 14, 43], 84: [8], 85: [23], 87: [21], 88: [21], 89: [41], 91: [1, 35], 92: [14, 34, 35], 93: [8, 14, 34], 94: [8], 97: [21], 98: [21]})\n"
     ]
    }
   ],
   "source": [
    "import pickle \n",
    "\n",
    "with open('covered.pickle', 'rb') as handle:\n",
    "    unserialized_data = pickle.load(handle)\n",
    "\n",
    "print(unserialized_data)"
   ]
  },
  {
   "cell_type": "code",
   "execution_count": 12,
   "metadata": {},
   "outputs": [
    {
     "name": "stdout",
     "output_type": "stream",
     "text": [
      "27\n",
      "27\n",
      "28\n",
      "28\n",
      "46\n",
      "20\n",
      "46\n",
      "0\n",
      "20\n",
      "0\n",
      "15\n",
      "20\n",
      "24\n",
      "15\n",
      "37\n",
      "37\n",
      "17\n",
      "27\n",
      "27\n",
      "28\n",
      "28\n",
      "18\n",
      "46\n",
      "48\n",
      "18\n",
      "46\n",
      "48\n",
      "0\n",
      "20\n",
      "0\n",
      "15\n",
      "17\n",
      "30\n",
      "17\n",
      "42\n",
      "5\n",
      "42\n",
      "5\n",
      "36\n",
      "48\n",
      "18\n",
      "48\n",
      "49\n",
      "49\n",
      "4\n",
      "38\n",
      "30\n",
      "42\n",
      "5\n",
      "36\n",
      "42\n",
      "5\n",
      "33\n",
      "36\n",
      "39\n",
      "33\n",
      "39\n",
      "49\n",
      "4\n",
      "49\n",
      "4\n",
      "6\n",
      "38\n",
      "47\n",
      "9\n",
      "9\n",
      "33\n",
      "39\n",
      "3\n",
      "33\n",
      "39\n",
      "6\n",
      "47\n",
      "2\n",
      "2\n",
      "25\n",
      "26\n",
      "9\n",
      "25\n",
      "26\n",
      "32\n",
      "3\n",
      "9\n",
      "12\n",
      "19\n",
      "26\n",
      "32\n",
      "3\n",
      "19\n",
      "3\n",
      "11\n",
      "22\n",
      "11\n",
      "44\n",
      "44\n",
      "13\n",
      "2\n",
      "45\n",
      "2\n",
      "10\n",
      "25\n",
      "45\n",
      "10\n",
      "12\n",
      "25\n",
      "26\n",
      "31\n",
      "12\n",
      "31\n",
      "32\n",
      "3\n",
      "19\n",
      "7\n",
      "22\n",
      "23\n",
      "29\n",
      "40\n",
      "7\n",
      "11\n",
      "22\n",
      "22\n",
      "44\n",
      "44\n",
      "13\n",
      "16\n",
      "16\n",
      "45\n",
      "1\n",
      "10\n",
      "16\n",
      "45\n",
      "10\n",
      "31\n",
      "43\n",
      "31\n",
      "43\n",
      "23\n",
      "29\n",
      "40\n",
      "7\n",
      "23\n",
      "29\n",
      "40\n",
      "7\n",
      "16\n",
      "1\n",
      "35\n",
      "1\n",
      "14\n",
      "35\n",
      "43\n",
      "8\n",
      "14\n",
      "43\n",
      "8\n",
      "23\n",
      "21\n",
      "21\n",
      "41\n",
      "1\n",
      "35\n",
      "14\n",
      "34\n",
      "35\n",
      "8\n",
      "14\n",
      "34\n",
      "8\n",
      "21\n",
      "21\n"
     ]
    }
   ],
   "source": [
    "for k, v in unserialized_data.items():\n",
    "    for i in v:\n",
    "        print(i)"
   ]
  },
  {
   "cell_type": "code",
   "execution_count": 33,
   "metadata": {},
   "outputs": [
    {
     "data": {
      "text/plain": [
       "array([(61, 333.)], dtype=[('facility', '<i4'), ('population', '<f8')])"
      ]
     },
     "execution_count": 33,
     "metadata": {},
     "output_type": "execute_result"
    }
   ],
   "source": [
    "dtype = [('facility', int), ('population', float)]\n",
    "total_pop = np.genfromtxt('total_pop.csv', delimiter=',', skip_header=1, dtype=dtype)\n",
    "#print(total_pop.shape)\n",
    "#s = np.sort(total_pop, axis=)\n",
    "total_pop = np.sort(total_pop, order='population')\n",
    "total_pop = total_pop[::-1]\n",
    "total_pop[:1]"
   ]
  },
  {
   "cell_type": "code",
   "execution_count": 35,
   "metadata": {},
   "outputs": [
    {
     "name": "stdout",
     "output_type": "stream",
     "text": [
      "61\n",
      "33\n",
      "53\n",
      "62\n",
      "52\n",
      "32\n",
      "51\n",
      "6\n",
      "71\n",
      "43\n",
      "23\n",
      "34\n",
      "10\n",
      "60\n",
      "22\n",
      "93\n",
      "11\n",
      "1\n",
      "65\n",
      "75\n",
      "15\n",
      "5\n",
      "4\n",
      "44\n",
      "38\n",
      "14\n",
      "13\n",
      "72\n",
      "70\n",
      "83\n",
      "35\n",
      "24\n",
      "74\n",
      "63\n",
      "98\n",
      "97\n",
      "92\n",
      "88\n",
      "87\n",
      "0\n",
      "19\n",
      "64\n",
      "54\n",
      "82\n",
      "48\n",
      "50\n",
      "20\n",
      "16\n",
      "42\n",
      "3\n",
      "94\n",
      "84\n",
      "66\n",
      "31\n",
      "21\n",
      "36\n",
      "26\n",
      "89\n",
      "73\n",
      "69\n",
      "28\n",
      "57\n",
      "12\n",
      "2\n",
      "7\n",
      "8\n",
      "25\n",
      "80\n",
      "76\n",
      "67\n",
      "56\n",
      "91\n",
      "81\n",
      "68\n",
      "58\n",
      "29\n",
      "85\n",
      "59\n",
      "55\n"
     ]
    }
   ],
   "source": [
    "for i in total_pop:\n",
    "    print(i[0])"
   ]
  },
  {
   "cell_type": "code",
   "execution_count": 147,
   "metadata": {},
   "outputs": [],
   "source": [
    "import sys \n",
    "\n",
    "\n",
    "def naive_greedy(n_sited):\n",
    "        \"\"\"implements a naive greedy search \n",
    "        to yield feasible solutions for n-sites maximizing \n",
    "        covered demand\n",
    "        \n",
    "        n_sited(int): number of facilities to site \n",
    "        \n",
    "        saves: sited_facilities.csv\n",
    "\n",
    "        \"\"\"\n",
    "\n",
    "        orig_stdout = sys.stdout\n",
    "        f = open('out.txt', 'w')\n",
    "        sys.stdout = f\n",
    "\n",
    "        start_time = time.time()\n",
    "\n",
    "        # read files with info \n",
    "        dtype = [('facility', int), ('population', float)]\n",
    "        facility = np.genfromtxt('facility.csv', delimiter=',', skip_header=1)\n",
    "        demand = np.genfromtxt('demand.csv', delimiter=',', skip_header=1)\n",
    "        total_pop = np.genfromtxt('total_pop.csv', delimiter=',', skip_header=1, dtype=dtype)\n",
    "        with open('covered.pickle', 'rb') as handle:\n",
    "            coverage = pickle.load(handle)\n",
    "\n",
    "        # sort total population for looping\n",
    "        sorted_pop = np.sort(total_pop, order='population')\n",
    "        sorted_pop = sorted_pop[::-1]\n",
    "        \n",
    "\n",
    "        # initiate vars \n",
    "        candidate_facilities = total_pop['facility']\n",
    "        print(type(candidate_facilities))\n",
    "        sited_facilities = []\n",
    "        #all_demand\n",
    "        covered_demand = []\n",
    "        temp_covered_demand = []\n",
    "\n",
    "        # set objective to a zero \n",
    "        obj = 0 \n",
    "\n",
    "        # set the required number of sited facilities \n",
    "        p = 0\n",
    "\n",
    "        # generate initial guess with sorted array \n",
    "        # loop over potential facilities \n",
    "        for i in sorted_pop:\n",
    "            print(i)\n",
    "\n",
    "            if p>n_sited:\n",
    "                break \n",
    "\n",
    "            else: \n",
    "\n",
    "                # save to temp covered\n",
    "                temp_covered = coverage[i[0]]\n",
    "                print(temp_covered)\n",
    "                temp_covered_demand.append(temp_covered)\n",
    "                # flatten the list\n",
    "                flat_demand =  [item for sublist in temp_covered_demand for item in sublist]\n",
    "                # convert to set for objective calulation\n",
    "                uniq_demand = set(flat_demand)\n",
    "                print('unique: ', uniq_demand)\n",
    "                print('length of temp covered', len(uniq_demand))\n",
    "\n",
    "                # calculate total demand covered\n",
    "                s = 0\n",
    "                for u in uniq_demand:\n",
    "                    s = s + demand[u,2]\n",
    "                #print(s)\n",
    "\n",
    "                # compare to obj\n",
    "                if s>obj:\n",
    "                    obj = s\n",
    "                    p = p + 1\n",
    "                    sited_facilities.append(i[0]) # site facility\n",
    "                    covered_demand = list(uniq_demand)#temp_covered_demand\n",
    "                    print('length of current covered', len(covered_demand))\n",
    "                    \n",
    "                    print(f'New solution found with objective value {obj}')\n",
    "                    print(f'The sited facility_id is {i[0]}')\n",
    "                else:\n",
    "                    print('bad solution')\n",
    "                    # if the solution is inferior, remove covered demand\n",
    "                    pass\n",
    "\n",
    "                print('----------------------------------------------')\n",
    "\n",
    "        print('facilities sited at the following locations:')\n",
    "        print(sited_facilities)\n",
    "        print(f'Completed in {(time.time() - start_time)} seconds')\n",
    "\n",
    "        # save sited_id \n",
    "        #np.savetxt('test.csv', [61, 33, 53, 62, 32, 6, 71, 23, 34, 10, 93], delimiter=',', fmt = '%i')\n",
    "        np.savetxt('sited_id.csv', sited_facilities, delimiter=',', header='facility', comments='', fmt='%i')\n",
    "\n",
    "        # save covered_id \n",
    "        #fmt = 'i'\n",
    "        #flat_covered = [item for sublist in covered_demand for item in sublist]\n",
    "        np.savetxt('covered_id.csv', covered_demand, delimiter=',', header='demand', comments='', fmt='%i')\n",
    "        #np.savetxt('test2.csv', list({0, 1, 2, 3, 5, 8, 9, 10, 12, 14, 15, 16, 17, 19, 20, 24, 25, 26, 27, 31, 32, 33, 34, 36, 39, 42, 45, 48, 49}), delimiter=',', fmt = '%i')\n",
    "\n",
    "        sys.stdout = orig_stdout\n",
    "        f.close()\n",
    "\n",
    "naive_greedy(10)"
   ]
  },
  {
   "cell_type": "code",
   "execution_count": 69,
   "metadata": {},
   "outputs": [
    {
     "data": {
      "text/plain": [
       "[8]"
      ]
     },
     "execution_count": 69,
     "metadata": {},
     "output_type": "execute_result"
    }
   ],
   "source": [
    "with open('covered.pickle', 'rb') as handle:\n",
    "            coverage = pickle.load(handle)\n",
    "\n",
    "coverage[84]"
   ]
  },
  {
   "cell_type": "code",
   "execution_count": 145,
   "metadata": {},
   "outputs": [
    {
     "data": {
      "text/plain": [
       "defaultdict(list,\n",
       "            {0: [27],\n",
       "             1: [27, 28],\n",
       "             2: [28],\n",
       "             3: [46],\n",
       "             4: [20, 46],\n",
       "             5: [0, 20],\n",
       "             6: [0, 15, 20, 24],\n",
       "             7: [15, 37],\n",
       "             8: [37],\n",
       "             10: [17, 27],\n",
       "             11: [27, 28],\n",
       "             12: [28],\n",
       "             13: [18, 46, 48],\n",
       "             14: [18, 46, 48],\n",
       "             15: [0, 20],\n",
       "             16: [0, 15],\n",
       "             19: [17, 30],\n",
       "             20: [17],\n",
       "             21: [42],\n",
       "             22: [5, 42],\n",
       "             23: [5, 36, 48],\n",
       "             24: [18, 48, 49],\n",
       "             25: [49],\n",
       "             26: [4],\n",
       "             28: [38],\n",
       "             29: [30],\n",
       "             31: [42],\n",
       "             32: [5, 36, 42],\n",
       "             33: [5, 33, 36, 39],\n",
       "             34: [33, 39, 49],\n",
       "             35: [4, 49],\n",
       "             36: [4],\n",
       "             38: [6, 38, 47],\n",
       "             42: [9],\n",
       "             43: [9, 33, 39],\n",
       "             44: [3, 33, 39],\n",
       "             48: [6, 47],\n",
       "             50: [2],\n",
       "             51: [2, 25, 26],\n",
       "             52: [9, 25, 26, 32],\n",
       "             53: [3, 9, 12, 19, 26, 32],\n",
       "             54: [3, 19],\n",
       "             55: [3],\n",
       "             56: [11, 22],\n",
       "             57: [11, 44],\n",
       "             58: [44],\n",
       "             59: [13],\n",
       "             60: [2, 45],\n",
       "             61: [2, 10, 25, 45],\n",
       "             62: [10, 12, 25, 26, 31],\n",
       "             63: [12, 31, 32],\n",
       "             64: [3, 19],\n",
       "             65: [7, 22, 23, 29, 40],\n",
       "             66: [7, 11, 22],\n",
       "             67: [22, 44],\n",
       "             68: [44],\n",
       "             69: [13, 16],\n",
       "             70: [16, 45],\n",
       "             71: [1, 10, 16, 45],\n",
       "             72: [10, 31, 43],\n",
       "             73: [31, 43],\n",
       "             74: [23, 29, 40],\n",
       "             75: [7, 23, 29, 40],\n",
       "             76: [7],\n",
       "             80: [16],\n",
       "             81: [1, 35],\n",
       "             82: [1, 14, 35, 43],\n",
       "             83: [8, 14, 43],\n",
       "             84: [8],\n",
       "             85: [23],\n",
       "             87: [21],\n",
       "             88: [21],\n",
       "             89: [41],\n",
       "             91: [1, 35],\n",
       "             92: [14, 34, 35],\n",
       "             93: [8, 14, 34],\n",
       "             94: [8],\n",
       "             97: [21],\n",
       "             98: [21]})"
      ]
     },
     "execution_count": 145,
     "metadata": {},
     "output_type": "execute_result"
    }
   ],
   "source": [
    "coverage"
   ]
  },
  {
   "cell_type": "code",
   "execution_count": 96,
   "metadata": {},
   "outputs": [],
   "source": [
    "np.savetxt('test.csv', [61, 33, 53, 62, 32, 6, 71, 23, 34, 10, 93], delimiter=',', fmt = '%i')\n",
    "np.savetxt('test2.csv', list({0, 1, 2, 3, 5, 8, 9, 10, 12, 14, 15, 16, 17, 19, 20, 24, 25, 26, 27, 31, 32, 33, 34, 36, 39, 42, 45, 48, 49}), delimiter=',', fmt = '%i')"
   ]
  },
  {
   "cell_type": "code",
   "execution_count": 158,
   "metadata": {},
   "outputs": [
    {
     "name": "stdout",
     "output_type": "stream",
     "text": [
      "(11,)\n",
      "(29,)\n",
      "0\n",
      "1\n",
      "2\n",
      "3\n",
      "5\n",
      "8\n",
      "9\n",
      "10\n",
      "12\n",
      "14\n",
      "15\n",
      "16\n",
      "17\n",
      "19\n",
      "20\n",
      "24\n",
      "25\n",
      "26\n",
      "27\n",
      "31\n",
      "32\n",
      "33\n",
      "34\n",
      "36\n",
      "39\n",
      "42\n",
      "45\n",
      "48\n",
      "49\n"
     ]
    },
    {
     "data": {
      "image/png": "[encoded data removed]",
      "text/plain": [
       "<Figure size 720x720 with 1 Axes>"
      ]
     },
     "metadata": {
      "needs_background": "light"
     },
     "output_type": "display_data"
    }
   ],
   "source": [
    "import matplotlib.pyplot as plt\n",
    "def plot_solution():\n",
    "    \"\"\"plots solution found by heuristic\"\"\"\n",
    "\n",
    "    facility = np.genfromtxt('facility.csv', delimiter=',', skip_header=1)\n",
    "    demand = np.genfromtxt('demand.csv', delimiter=',', skip_header=1)    \n",
    "    sited_id = np.genfromtxt('sited_id.csv', delimiter=',', skip_header=1, dtype=int)\n",
    "    covered_id = np.genfromtxt('covered_id.csv', delimiter=',', skip_header=1, dtype=int)\n",
    "\n",
    "    #print(facility.shape) \n",
    "    print(sited_id.shape)\n",
    "    print(covered_id.shape)\n",
    "    #print(sited_id.dtype)\n",
    "\n",
    "    #print(facility[sited_id,:])\n",
    "\n",
    "    fig, ax = plt.subplots(figsize=(10,10))\n",
    "\n",
    "    # plot buffers \n",
    "    for x,y in zip(facility[sited_id,0], facility[sited_id,1]):\n",
    "        circle1 = plt.Circle((x,y), 0.1, color='b', alpha=.1)\n",
    "        ax.add_patch(circle1)\n",
    "\n",
    "    # plot facilities\n",
    "    #ax.scatter(facility[:,0], facility[:,1], s = facility[:,2], color='k')\n",
    "    ax.scatter(facility[sited_id,0], facility[sited_id,1], color='b', marker='s')\n",
    "\n",
    "    # plot demand\n",
    "    ax.scatter(demand[:,0], demand[:,1], s = demand[:,2], color='k')\n",
    "    ax.scatter(demand[covered_id,0], demand[covered_id,1], s=demand[covered_id,2], color='red')\n",
    "\n",
    "    for txt in covered_id:\n",
    "        print(txt)\n",
    "        ax.annotate(txt, demand[txt,0:2], color='r')\n",
    "\n",
    "    \n",
    "    #circle1 = plt.Circle(facility[sited_id,0], facility[sited_id,1], 0.1, color='g')\n",
    "\n",
    "    ax.set_xlim(0,1)\n",
    "    ax.set_ylim(0,1)\n",
    "    ax.set_title('Maximal Covering Location Problem', fontsize=14)\n",
    "\n",
    "plot_solution()"
   ]
  },
  {
   "cell_type": "code",
   "execution_count": 124,
   "metadata": {},
   "outputs": [
    {
     "data": {
      "text/plain": [
       "[0, 20]"
      ]
     },
     "execution_count": 124,
     "metadata": {},
     "output_type": "execute_result"
    }
   ],
   "source": [
    "coverage[5]"
   ]
  },
  {
   "cell_type": "code",
   "execution_count": null,
   "metadata": {},
   "outputs": [],
   "source": []
  }
 ],
 "metadata": {
  "interpreter": {
   "hash": "ec06dac67a621b1bc5d551f06bd90c1fc966f7d0a7bc418cd8957f48b731d2b5"
  },
  "kernelspec": {
   "display_name": "Python 3.8.12 64-bit ('optim': conda)",
   "language": "python",
   "name": "python3"
  },
  "language_info": {
   "codemirror_mode": {
    "name": "ipython",
    "version": 3
   },
   "file_extension": ".py",
   "mimetype": "text/x-python",
   "name": "python",
   "nbconvert_exporter": "python",
   "pygments_lexer": "ipython3",
   "version": "3.10.0"
  },
  "orig_nbformat": 4
 },
 "nbformat": 4,
 "nbformat_minor": 2
}
