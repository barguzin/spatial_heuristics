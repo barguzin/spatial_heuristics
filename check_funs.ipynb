{
 "cells": [
  {
   "cell_type": "code",
   "execution_count": 1,
   "metadata": {},
   "outputs": [],
   "source": [
    "from spam import make_points as mp\n",
    "from spam import make_grid as mg\n",
    "from spam import calculate_dist \n",
    "from spam import get_covered as gc"
   ]
  },
  {
   "cell_type": "code",
   "execution_count": 2,
   "metadata": {},
   "outputs": [
    {
     "name": "stdout",
     "output_type": "stream",
     "text": [
      "file 'demand.csv' of shape: (50, 4) created at 2022-02-02 18:55:08\n"
     ]
    },
    {
     "data": {
      "image/png": "[encoded data removed]",
      "text/plain": [
       "<Figure size 432x288 with 1 Axes>"
      ]
     },
     "metadata": {
      "needs_background": "light"
     },
     "output_type": "display_data"
    }
   ],
   "source": [
    "# generate demand\n",
    "mp(50)"
   ]
  },
  {
   "cell_type": "code",
   "execution_count": 3,
   "metadata": {},
   "outputs": [
    {
     "data": {
      "image/png": "[encoded data removed]",
      "text/plain": [
       "<Figure size 432x288 with 1 Axes>"
      ]
     },
     "metadata": {
      "needs_background": "light"
     },
     "output_type": "display_data"
    }
   ],
   "source": [
    "# facilities \n",
    "mg(10)"
   ]
  },
  {
   "cell_type": "code",
   "execution_count": 4,
   "metadata": {},
   "outputs": [
    {
     "data": {
      "text/plain": [
       "array([[0.090909, 0.090909, 0.      ],\n",
       "       [0.181818, 0.090909, 1.      ],\n",
       "       [0.272727, 0.090909, 2.      ],\n",
       "       [0.363636, 0.090909, 3.      ],\n",
       "       [0.454545, 0.090909, 4.      ]])"
      ]
     },
     "execution_count": 4,
     "metadata": {},
     "output_type": "execute_result"
    }
   ],
   "source": [
    "import numpy as np\n",
    "facility = np.genfromtxt('facility.csv', delimiter=',', skip_header=1)\n",
    "facility[:5]"
   ]
  },
  {
   "cell_type": "code",
   "execution_count": 5,
   "metadata": {},
   "outputs": [
    {
     "data": {
      "text/plain": [
       "array([[0.      , 0.090909, 0.181818, 0.272727, 0.363636],\n",
       "       [0.090909, 0.      , 0.090909, 0.181818, 0.272727],\n",
       "       [0.181818, 0.090909, 0.      , 0.090909, 0.181818],\n",
       "       [0.272727, 0.181818, 0.090909, 0.      , 0.090909],\n",
       "       [0.363636, 0.272727, 0.181818, 0.090909, 0.      ]])"
      ]
     },
     "execution_count": 5,
     "metadata": {},
     "output_type": "execute_result"
    }
   ],
   "source": [
    "from scipy.spatial import distance\n",
    "\n",
    "distance.cdist(facility[:5,0:2], facility[:5,0:2], 'euclidean')"
   ]
  },
  {
   "cell_type": "code",
   "execution_count": 6,
   "metadata": {},
   "outputs": [],
   "source": [
    "calculate_dist()"
   ]
  },
  {
   "cell_type": "code",
   "execution_count": 7,
   "metadata": {},
   "outputs": [],
   "source": [
    "gc(0.1)"
   ]
  },
  {
   "cell_type": "code",
   "execution_count": null,
   "metadata": {},
   "outputs": [],
   "source": []
  }
 ],
 "metadata": {
  "interpreter": {
   "hash": "ab7abc3b5d5d03346328b16922833117e6a0f40ea991f4df11dbeb784ac2faff"
  },
  "kernelspec": {
   "display_name": "Python 3.10.0 64-bit ('geo': conda)",
   "language": "python",
   "name": "python3"
  },
  "language_info": {
   "codemirror_mode": {
    "name": "ipython",
    "version": 3
   },
   "file_extension": ".py",
   "mimetype": "text/x-python",
   "name": "python",
   "nbconvert_exporter": "python",
   "pygments_lexer": "ipython3",
   "version": "3.10.0"
  },
  "orig_nbformat": 4
 },
 "nbformat": 4,
 "nbformat_minor": 2
}
